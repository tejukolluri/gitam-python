{
 "cells": [
  {
   "cell_type": "markdown",
   "metadata": {},
   "source": [
    "## Standard Libraries\n",
    "  - File I/O\n",
    "  - Regular Expression\n",
    "  - Datetime\n",
    "  - Math(numerical and mathematical)"
   ]
  },
  {
   "cell_type": "markdown",
   "metadata": {},
   "source": [
    "## File Handling in Python\n",
    "  - File:-Document containing information reaches on the permanent storage\n",
    "  - Different types of files:-txt.doc,pdf,csv and etc...\n",
    "  - Input -- Keyboard\n",
    "  - Output -- File\n",
    " ##  Modes of the File I/O\n",
    "   - 'w' -- This Mode Is Used To File Writing\n",
    "       - -if the file is not present it creates the file and write the data to it \n",
    "       - -if the file is already present then it will rewrite the previous content"
   ]
  },
  {
   "cell_type": "code",
   "execution_count": 10,
   "metadata": {},
   "outputs": [
    {
     "name": "stdout",
     "output_type": "stream",
     "text": [
      "File is created and data has written\n"
     ]
    }
   ],
   "source": [
    "#function to create the file and write to the file\n",
    "def createfile(filename):\n",
    "    f=open(filename,'w')\n",
    "    for i in range(10):\n",
    "        f.write('this is %d line\\n'%i)\n",
    "    print(\"File is created and data has written\")\n",
    "    return\n",
    "createfile('file1.txt')"
   ]
  },
  {
   "cell_type": "code",
   "execution_count": 3,
   "metadata": {},
   "outputs": [
    {
     "name": "stdout",
     "output_type": "stream",
     "text": [
      "\u001b[0m\u001b[01;34manaconda3\u001b[0m/        \u001b[01;34mMusic\u001b[0m/             python day4.ipynb  \u001b[01;34mUntitled Folder 1\u001b[0m/\r\n",
      "\u001b[01;34mDesktop\u001b[0m/          \u001b[01;34mPictures\u001b[0m/          python day5.ipynb  \u001b[01;34mUntitled Folder 2\u001b[0m/\r\n",
      "\u001b[01;34mDocuments\u001b[0m/        \u001b[01;34mPublic\u001b[0m/            python day6.ipynb  \u001b[01;34mUntitled Folder 3\u001b[0m/\r\n",
      "\u001b[01;34mDownloads\u001b[0m/        python day1.ipynb  \u001b[01;34mTemplates\u001b[0m/         \u001b[01;34mVideos\u001b[0m/\r\n",
      "examples.desktop  python day2.ipynb  Untitled1.ipynb\r\n",
      "file.txt          python day3.ipynb  \u001b[01;34mUntitled Folder\u001b[0m/\r\n"
     ]
    }
   ],
   "source": [
    "ls"
   ]
  },
  {
   "cell_type": "code",
   "execution_count": 11,
   "metadata": {},
   "outputs": [
    {
     "name": "stdout",
     "output_type": "stream",
     "text": [
      "this is 0 line\r\n",
      "this is 1 line\r\n",
      "this is 2 line\r\n",
      "this is 3 line\r\n",
      "this is 4 line\r\n",
      "this is 5 line\r\n",
      "this is 6 line\r\n",
      "this is 7 line\r\n",
      "this is 8 line\r\n",
      "this is 9 line\r\n"
     ]
    }
   ],
   "source": [
    "cat file1.txt"
   ]
  },
  {
   "cell_type": "code",
   "execution_count": 7,
   "metadata": {},
   "outputs": [
    {
     "name": "stdout",
     "output_type": "stream",
     "text": [
      "File is created and data has written\n"
     ]
    }
   ],
   "source": [
    "def createfile(filename):\n",
    "    f=open(filename,'w')\n",
    "    f.write('Testing--\\n')\n",
    "    print(\"File is created and data has written\")\n",
    "    return\n",
    "createfile('file1.txt')"
   ]
  },
  {
   "cell_type": "code",
   "execution_count": 13,
   "metadata": {},
   "outputs": [
    {
     "name": "stdout",
     "output_type": "stream",
     "text": [
      "file created and successfully data written\n"
     ]
    }
   ],
   "source": [
    "def appendData(filename):\n",
    "    f=open(filename,'a')\n",
    "    for i in range(10):\n",
    "        f.write(\"this is %d line\\n\"%i)\n",
    "    print(\"file created and successfully data written\")\n",
    "    return\n",
    "appendData('file2.txt')"
   ]
  },
  {
   "cell_type": "code",
   "execution_count": 15,
   "metadata": {},
   "outputs": [
    {
     "name": "stdout",
     "output_type": "stream",
     "text": [
      "file created and successfully data written\n"
     ]
    }
   ],
   "source": [
    "def appendData(filename):\n",
    "    f=open(filename,'a')\n",
    "    f.write(\"New Line 1\\n\")\n",
    "    f.write(\"New Line 2\\n\")\n",
    "    print(\"file created and successfully data written\")\n",
    "    f.close()\n",
    "    return\n",
    "appendData('file2.txt')"
   ]
  },
  {
   "cell_type": "code",
   "execution_count": 18,
   "metadata": {},
   "outputs": [
    {
     "name": "stdout",
     "output_type": "stream",
     "text": [
      "this is 0 line\n",
      "this is 1 line\n",
      "this is 2 line\n",
      "this is 3 line\n",
      "this is 4 line\n",
      "this is 5 line\n",
      "this is 6 line\n",
      "this is 7 line\n",
      "this is 8 line\n",
      "this is 9 line\n",
      "this is 0 line\n",
      "this is 1 line\n",
      "this is 2 line\n",
      "this is 3 line\n",
      "this is 4 line\n",
      "this is 5 line\n",
      "this is 6 line\n",
      "this is 7 line\n",
      "this is 8 line\n",
      "this is 9 line\n",
      "New Line 1\n",
      "New Line 2\n",
      "New Line 1\n",
      "New Line 2\n",
      "\n"
     ]
    }
   ],
   "source": [
    "#function to read the file\n",
    "def readFileData(filename):\n",
    "    f=open(filename,'r')\n",
    "    if f.mode == 'r':\n",
    "        x = f.read()\n",
    "        print(x)\n",
    "    f.close()\n",
    "    return\n",
    "readFileData('file2.txt')"
   ]
  },
  {
   "cell_type": "code",
   "execution_count": 1,
   "metadata": {},
   "outputs": [
    {
     "name": "stdout",
     "output_type": "stream",
     "text": [
      "Enter the file namefile1.txt\n",
      "Enter the mode of the filer\n",
      "this is 0 line\n",
      "this is 1 line\n",
      "this is 2 line\n",
      "this is 3 line\n",
      "this is 4 line\n",
      "this is 5 line\n",
      "this is 6 line\n",
      "this is 7 line\n",
      "this is 8 line\n",
      "this is 9 line\n",
      "\n"
     ]
    }
   ],
   "source": [
    "def fileOperations(filename,mode):\n",
    "    with open(filename,mode)as f:\n",
    "        if f.mode == 'r':\n",
    "            data = f.read()\n",
    "            print(data)\n",
    "        elif f.mode == 'a':\n",
    "            f.write('Data to the file')\n",
    "            print('The data successfully written')\n",
    "    f.close()\n",
    "    return\n",
    "filename = input('Enter the file name')\n",
    "mode = input('Enter the mode of the file')\n",
    "fileOperations(filename,mode)"
   ]
  },
  {
   "cell_type": "code",
   "execution_count": 8,
   "metadata": {},
   "outputs": [
    {
     "name": "stdout",
     "output_type": "stream",
     "text": [
      "Enter the file name : file1.txt\n",
      "Enter the word : line\n"
     ]
    },
    {
     "data": {
      "text/plain": [
       "10"
      ]
     },
     "execution_count": 8,
     "metadata": {},
     "output_type": "execute_result"
    }
   ],
   "source": [
    "#data analysis\n",
    "#word count program\n",
    "def wordCount(filename,word):\n",
    "    with open(filename,'r')as f:\n",
    "        if f.mode == 'r':\n",
    "            x = f.read()\n",
    "            li = x.split()\n",
    "    cnt=li.count(word)\n",
    "    return cnt\n",
    "filename = input('Enter the file name : ')\n",
    "word = input('Enter the word : ')\n",
    "wordCount(filename,word)"
   ]
  },
  {
   "cell_type": "code",
   "execution_count": 1,
   "metadata": {},
   "outputs": [
    {
     "name": "stdout",
     "output_type": "stream",
     "text": [
      "Enter the filename:file1.txt\n"
     ]
    },
    {
     "data": {
      "text/plain": [
       "150"
      ]
     },
     "execution_count": 1,
     "metadata": {},
     "output_type": "execute_result"
    }
   ],
   "source": [
    "#character count from the given file\n",
    "def charCount(filename):\n",
    "    with open(filename,'r') as f:\n",
    "        if f.mode == 'r':\n",
    "            x=f.read()\n",
    "            li=list(x) #convert the string - char\n",
    "    return len(li)\n",
    "filename = input('Enter the filename:')\n",
    "charCount(filename)"
   ]
  },
  {
   "cell_type": "code",
   "execution_count": 3,
   "metadata": {},
   "outputs": [
    {
     "name": "stdout",
     "output_type": "stream",
     "text": [
      "Enter the filename:file1.txt\n"
     ]
    },
    {
     "data": {
      "text/plain": [
       "11"
      ]
     },
     "execution_count": 3,
     "metadata": {},
     "output_type": "execute_result"
    }
   ],
   "source": [
    "#function to find the no of lines in the input file\n",
    "#input -- filename(file2.txt)\n",
    "#output --No of lines(12)\n",
    "def countOfLines(filename):\n",
    "    with open(filename,'r') as f:\n",
    "        if f.mode == 'r':\n",
    "            x=f.read()\n",
    "            li=x.split(\"\\n\")\n",
    "    return len(li)\n",
    "filename = input('Enter the filename:')\n",
    "countOfLines(filename)"
   ]
  },
  {
   "cell_type": "code",
   "execution_count": 7,
   "metadata": {},
   "outputs": [
    {
     "name": "stdout",
     "output_type": "stream",
     "text": [
      "Enter the filename:file2.txt\n"
     ]
    },
    {
     "data": {
      "text/plain": [
       "'Upper Case =8,Lower Case=220'"
      ]
     },
     "execution_count": 7,
     "metadata": {},
     "output_type": "execute_result"
    }
   ],
   "source": [
    "#function to print the upper and lower characters\n",
    "def caseCount(filename):\n",
    "    cntUpper=0\n",
    "    cntLower=0\n",
    "    with open(filename,'r') as f:\n",
    "        if f.mode =='r':\n",
    "            x=f.read()\n",
    "            li=list(x)\n",
    "    for i in li:\n",
    "        if i.isupper():\n",
    "            cntUpper+=1\n",
    "        elif i.islower():\n",
    "            cntLower+=1\n",
    "    output='Upper Case ={0},Lower Case={1}'.format(cntUpper,cntLower)\n",
    "    return output\n",
    "filename = input('Enter the filename:')\n",
    "caseCount(filename)"
   ]
  },
  {
   "cell_type": "markdown",
   "metadata": {},
   "source": [
    "## Math,Random,OS\n",
    "  - on package it contains the contains methods which work with OS"
   ]
  },
  {
   "cell_type": "code",
   "execution_count": 9,
   "metadata": {},
   "outputs": [
    {
     "name": "stdout",
     "output_type": "stream",
     "text": [
      "\u001b[0m\u001b[01;34manaconda3\u001b[0m/        file2.txt          python day2.ipynb  Untitled1.ipynb\r\n",
      "\u001b[01;34mDesktop\u001b[0m/          file.txt           python day3.ipynb  \u001b[01;34mUntitled Folder\u001b[0m/\r\n",
      "\u001b[01;34mDocuments\u001b[0m/        \u001b[01;34mMusic\u001b[0m/             python day4.ipynb  \u001b[01;34mUntitled Folder 1\u001b[0m/\r\n",
      "\u001b[01;34mDownloads\u001b[0m/        \u001b[01;34mPictures\u001b[0m/          python day5.ipynb  \u001b[01;34mUntitled Folder 2\u001b[0m/\r\n",
      "examples.desktop  \u001b[01;34mPublic\u001b[0m/            python day6.ipynb  \u001b[01;34mUntitled Folder 3\u001b[0m/\r\n",
      "file1.txt         python day1.ipynb  \u001b[01;34mTemplates\u001b[0m/         \u001b[01;34mVideos\u001b[0m/\r\n"
     ]
    }
   ],
   "source": [
    "ls"
   ]
  },
  {
   "cell_type": "code",
   "execution_count": 10,
   "metadata": {},
   "outputs": [
    {
     "name": "stdout",
     "output_type": "stream",
     "text": [
      "[Errno 2] No such file or directory: 'Desktop/PythonProg'\n",
      "/home/student\n"
     ]
    }
   ],
   "source": [
    "cd Desktop/PythonProg"
   ]
  },
  {
   "cell_type": "code",
   "execution_count": 11,
   "metadata": {},
   "outputs": [
    {
     "name": "stdout",
     "output_type": "stream",
     "text": [
      "\u001b[0m\u001b[01;34manaconda3\u001b[0m/        file2.txt          python day2.ipynb  Untitled1.ipynb\r\n",
      "\u001b[01;34mDesktop\u001b[0m/          file.txt           python day3.ipynb  \u001b[01;34mUntitled Folder\u001b[0m/\r\n",
      "\u001b[01;34mDocuments\u001b[0m/        \u001b[01;34mMusic\u001b[0m/             python day4.ipynb  \u001b[01;34mUntitled Folder 1\u001b[0m/\r\n",
      "\u001b[01;34mDownloads\u001b[0m/        \u001b[01;34mPictures\u001b[0m/          python day5.ipynb  \u001b[01;34mUntitled Folder 2\u001b[0m/\r\n",
      "examples.desktop  \u001b[01;34mPublic\u001b[0m/            python day6.ipynb  \u001b[01;34mUntitled Folder 3\u001b[0m/\r\n",
      "file1.txt         python day1.ipynb  \u001b[01;34mTemplates\u001b[0m/         \u001b[01;34mVideos\u001b[0m/\r\n"
     ]
    }
   ],
   "source": [
    "ls"
   ]
  },
  {
   "cell_type": "code",
   "execution_count": 12,
   "metadata": {
    "scrolled": true
   },
   "outputs": [
    {
     "data": {
      "text/plain": [
       "['Documents',\n",
       " 'Pictures',\n",
       " '.bash_logout',\n",
       " 'Untitled Folder 2',\n",
       " '.gconf',\n",
       " 'python day6.ipynb',\n",
       " 'file2.txt',\n",
       " 'python day2.ipynb',\n",
       " '.anaconda',\n",
       " '.xsession-errors',\n",
       " 'Music',\n",
       " 'anaconda3',\n",
       " 'file1.txt',\n",
       " '.condarc',\n",
       " 'Videos',\n",
       " '.cache',\n",
       " '.bashrc',\n",
       " 'file.txt',\n",
       " '.profile',\n",
       " '.Xauthority',\n",
       " 'Untitled1.ipynb',\n",
       " '.ipython',\n",
       " 'Untitled Folder 1',\n",
       " 'Public',\n",
       " '.compiz',\n",
       " '.xsession-errors.old',\n",
       " '.conda',\n",
       " 'Desktop',\n",
       " 'examples.desktop',\n",
       " 'Downloads',\n",
       " '.ICEauthority',\n",
       " '.config',\n",
       " 'Untitled Folder 3',\n",
       " 'python day3.ipynb',\n",
       " '.jupyter',\n",
       " 'python day1.ipynb',\n",
       " '.ipynb_checkpoints',\n",
       " 'python day5.ipynb',\n",
       " '.gnupg',\n",
       " '.mozilla',\n",
       " 'Untitled Folder',\n",
       " '.bash_history',\n",
       " '.local',\n",
       " 'Templates',\n",
       " 'python day4.ipynb']"
      ]
     },
     "execution_count": 12,
     "metadata": {},
     "output_type": "execute_result"
    }
   ],
   "source": [
    "import os\n",
    "os.listdir()"
   ]
  },
  {
   "cell_type": "markdown",
   "metadata": {},
   "source": [
    "## Listing all files in the Directory\n",
    "\n",
    "\n"
   ]
  },
  {
   "cell_type": "code",
   "execution_count": 25,
   "metadata": {},
   "outputs": [
    {
     "name": "stdout",
     "output_type": "stream",
     "text": [
      "user-dirs.locale\n",
      "user-dirs.dirs\n"
     ]
    }
   ],
   "source": [
    "import os\n",
    "dirPath = \".config\"\n",
    "for i in os.listdir(dirPath):\n",
    "    if os.path.isfile(os.path.join(dirPath,i)):\n",
    "        print(i)"
   ]
  },
  {
   "cell_type": "code",
   "execution_count": 23,
   "metadata": {},
   "outputs": [
    {
     "name": "stdout",
     "output_type": "stream",
     "text": [
      "gnome-control-center\n",
      "upstart\n",
      "ibus\n",
      "nautilus\n",
      "unity\n",
      "dconf\n",
      "evolution\n",
      "compiz-1\n",
      "gnome-session\n",
      "user-dirs.locale\n",
      "user-dirs.dirs\n",
      "gtk-3.0\n",
      "update-notifier\n",
      "pulse\n",
      "libaccounts-glib\n",
      "gedit\n"
     ]
    }
   ],
   "source": [
    "li=os.listdir('.config')\n",
    "for i in li:\n",
    "    print(i)"
   ]
  },
  {
   "cell_type": "code",
   "execution_count": 24,
   "metadata": {},
   "outputs": [
    {
     "data": {
      "text/plain": [
       "'/home/student'"
      ]
     },
     "execution_count": 24,
     "metadata": {},
     "output_type": "execute_result"
    }
   ],
   "source": [
    "pwd"
   ]
  },
  {
   "cell_type": "markdown",
   "metadata": {},
   "source": [
    "## Listing Subdirectories"
   ]
  },
  {
   "cell_type": "code",
   "execution_count": 26,
   "metadata": {},
   "outputs": [
    {
     "name": "stdout",
     "output_type": "stream",
     "text": [
      "user-dirs.locale\n",
      "user-dirs.dirs\n"
     ]
    }
   ],
   "source": [
    "dirPath = \".config\"\n",
    "for i in os.listdir(dirPath):\n",
    "    if os.path.isfile(os.path.join(dirPath,i)):\n",
    "        print(i)"
   ]
  },
  {
   "cell_type": "code",
   "execution_count": 32,
   "metadata": {},
   "outputs": [
    {
     "name": "stdout",
     "output_type": "stream",
     "text": [
      "gnome-control-center\n",
      "upstart\n",
      "ibus\n",
      "nautilus\n",
      "unity\n",
      "dconf\n",
      "evolution\n",
      "compiz-1\n",
      "gnome-session\n",
      "gtk-3.0\n",
      "update-notifier\n",
      "pulse\n",
      "libaccounts-glib\n",
      "gedit\n"
     ]
    }
   ],
   "source": [
    "from pathlib import Path\n",
    "dirpath = Path(\".config\")\n",
    "for i in dirpath.iterdir():\n",
    "    if i.is_dir():\n",
    "        print(i.name)"
   ]
  },
  {
   "cell_type": "code",
   "execution_count": 33,
   "metadata": {},
   "outputs": [
    {
     "name": "stdout",
     "output_type": "stream",
     "text": [
      "gnome-control-center\n",
      "upstart\n",
      "ibus\n",
      "nautilus\n",
      "unity\n",
      "dconf\n",
      "evolution\n",
      "compiz-1\n",
      "gnome-session\n",
      "gtk-3.0\n",
      "update-notifier\n",
      "pulse\n",
      "libaccounts-glib\n",
      "gedit\n"
     ]
    }
   ],
   "source": [
    "dirpath='.config'\n",
    "with os.scandir(dirpath) as f:\n",
    "    for i in f:\n",
    "        if i.is_dir():\n",
    "            print(i.name)"
   ]
  },
  {
   "cell_type": "markdown",
   "metadata": {},
   "source": [
    "## Creating a Single Directory"
   ]
  },
  {
   "cell_type": "code",
   "execution_count": 50,
   "metadata": {},
   "outputs": [],
   "source": [
    "import os \n",
    "os.mkdir('Single Directory')"
   ]
  },
  {
   "cell_type": "code",
   "execution_count": 42,
   "metadata": {},
   "outputs": [],
   "source": [
    "import pathlib\n",
    "p=pathlib.Path('Test Folder')\n",
    "p.mkdir()"
   ]
  },
  {
   "cell_type": "code",
   "execution_count": 36,
   "metadata": {},
   "outputs": [
    {
     "name": "stdout",
     "output_type": "stream",
     "text": [
      "\u001b[0m\u001b[01;34manaconda3\u001b[0m/        file.txt           python day4.ipynb  \u001b[01;34mUntitled Folder\u001b[0m/\r\n",
      "\u001b[01;34mDesktop\u001b[0m/          \u001b[01;34mMusic\u001b[0m/             python day5.ipynb  \u001b[01;34mUntitled Folder 1\u001b[0m/\r\n",
      "\u001b[01;34mDocuments\u001b[0m/        \u001b[01;34mPictures\u001b[0m/          python day6.ipynb  \u001b[01;34mUntitled Folder 2\u001b[0m/\r\n",
      "\u001b[01;34mDownloads\u001b[0m/        \u001b[01;34mPublic\u001b[0m/            \u001b[01;34mSingleDirectory\u001b[0m/   \u001b[01;34mUntitled Folder 3\u001b[0m/\r\n",
      "examples.desktop  python day1.ipynb  \u001b[01;34mTemplates\u001b[0m/         \u001b[01;34mVideos\u001b[0m/\r\n",
      "file1.txt         python day2.ipynb  \u001b[01;34mTestFolder\u001b[0m/\r\n",
      "file2.txt         python day3.ipynb  Untitled1.ipynb\r\n"
     ]
    }
   ],
   "source": [
    "ls\n"
   ]
  },
  {
   "cell_type": "markdown",
   "metadata": {},
   "source": [
    "## Creating Multiple Directory"
   ]
  },
  {
   "cell_type": "code",
   "execution_count": 51,
   "metadata": {},
   "outputs": [],
   "source": [
    "import os\n",
    "os.makedirs('2019/july/11')"
   ]
  },
  {
   "cell_type": "code",
   "execution_count": 52,
   "metadata": {},
   "outputs": [
    {
     "name": "stdout",
     "output_type": "stream",
     "text": [
      "\u001b[0m\u001b[01;34m2019\u001b[0m/             file.txt           python day5.ipynb    \u001b[01;34mTest Folder\u001b[0m/\r\n",
      "\u001b[01;34manaconda3\u001b[0m/        \u001b[01;34mMusic\u001b[0m/             python day6.ipynb    Untitled1.ipynb\r\n",
      "\u001b[01;34mDesktop\u001b[0m/          \u001b[01;34mPictures\u001b[0m/          \u001b[01;34mSingleDirectory\u001b[0m/     \u001b[01;34mUntitled Folder\u001b[0m/\r\n",
      "\u001b[01;34mDocuments\u001b[0m/        \u001b[01;34mPublic\u001b[0m/            \u001b[01;34mSingle Directory\u001b[0m/    \u001b[01;34mUntitled Folder 1\u001b[0m/\r\n",
      "\u001b[01;34mDownloads\u001b[0m/        python day1.ipynb  \u001b[01;34mSingle  Directory\u001b[0m/   \u001b[01;34mUntitled Folder 2\u001b[0m/\r\n",
      "examples.desktop  python day2.ipynb  \u001b[01;34mSingle   Directory\u001b[0m/  \u001b[01;34mUntitled Folder 3\u001b[0m/\r\n",
      "file1.txt         python day3.ipynb  \u001b[01;34mTemplates\u001b[0m/           \u001b[01;34mVideos\u001b[0m/\r\n",
      "file2.txt         python day4.ipynb  \u001b[01;34mTestFolder\u001b[0m/\r\n"
     ]
    }
   ],
   "source": [
    "ls"
   ]
  },
  {
   "cell_type": "markdown",
   "metadata": {},
   "source": [
    "## Filename Matching Patterns"
   ]
  },
  {
   "cell_type": "code",
   "execution_count": 57,
   "metadata": {},
   "outputs": [],
   "source": [
    "import os\n",
    "dirPath = '.config'\n",
    "for f_name in os.listdir(dirPath):\n",
    "    if f_name.endswith('ipynb'):\n",
    "        print(f_name)"
   ]
  },
  {
   "cell_type": "code",
   "execution_count": null,
   "metadata": {},
   "outputs": [],
   "source": [
    "import os\n",
    "dirPath = '.config'\n",
    "for f_name in os.listdir(dirPath):\n",
    "    if f_name.startswith('0'):\n",
    "        print(f_name)"
   ]
  },
  {
   "cell_type": "markdown",
   "metadata": {},
   "source": [
    "## Deleting a file"
   ]
  },
  {
   "cell_type": "code",
   "execution_count": 58,
   "metadata": {},
   "outputs": [],
   "source": [
    "import os\n",
    "data_file='file1.txt'\n",
    "os.remove(data_file)"
   ]
  },
  {
   "cell_type": "code",
   "execution_count": 1,
   "metadata": {},
   "outputs": [
    {
     "name": "stdout",
     "output_type": "stream",
     "text": [
      "\u001b[0m\u001b[01;34m2019\u001b[0m/             \u001b[01;34mMusic\u001b[0m/             python day6.ipynb    Untitled1.ipynb\r\n",
      "\u001b[01;34manaconda3\u001b[0m/        \u001b[01;34mPictures\u001b[0m/          \u001b[01;34mSingleDirectory\u001b[0m/     \u001b[01;34mUntitled Folder\u001b[0m/\r\n",
      "\u001b[01;34mDesktop\u001b[0m/          \u001b[01;34mPublic\u001b[0m/            \u001b[01;34mSingle Directory\u001b[0m/    \u001b[01;34mUntitled Folder 1\u001b[0m/\r\n",
      "\u001b[01;34mDocuments\u001b[0m/        python day1.ipynb  \u001b[01;34mSingle  Directory\u001b[0m/   \u001b[01;34mUntitled Folder 2\u001b[0m/\r\n",
      "\u001b[01;34mDownloads\u001b[0m/        python day2.ipynb  \u001b[01;34mSingle   Directory\u001b[0m/  \u001b[01;34mUntitled Folder 3\u001b[0m/\r\n",
      "examples.desktop  python day3.ipynb  \u001b[01;34mTemplates\u001b[0m/           \u001b[01;34mVideos\u001b[0m/\r\n",
      "file2.txt         python day4.ipynb  \u001b[01;34mTestFolder\u001b[0m/\r\n",
      "file.txt          python day5.ipynb  \u001b[01;34mTest Folder\u001b[0m/\r\n"
     ]
    }
   ],
   "source": [
    "ls"
   ]
  },
  {
   "cell_type": "code",
   "execution_count": 2,
   "metadata": {},
   "outputs": [],
   "source": [
    "import shutil\n",
    "data_dir = '2019'\n",
    "shutil.rmtree(data_dir)"
   ]
  },
  {
   "cell_type": "markdown",
   "metadata": {},
   "source": [
    "## Regular Expressions"
   ]
  },
  {
   "cell_type": "code",
   "execution_count": null,
   "metadata": {},
   "outputs": [],
   "source": []
  }
 ],
 "metadata": {
  "kernelspec": {
   "display_name": "Python 3",
   "language": "python",
   "name": "python3"
  },
  "language_info": {
   "codemirror_mode": {
    "name": "ipython",
    "version": 3
   },
   "file_extension": ".py",
   "mimetype": "text/x-python",
   "name": "python",
   "nbconvert_exporter": "python",
   "pygments_lexer": "ipython3",
   "version": "3.7.3"
  }
 },
 "nbformat": 4,
 "nbformat_minor": 2
}
